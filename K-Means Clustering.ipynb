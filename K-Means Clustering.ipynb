{
 "cells": [
  {
   "cell_type": "markdown",
   "id": "bd1adbd6-5d40-4d52-a40c-243035a01dca",
   "metadata": {},
   "source": [
    "$$\\LARGE\\textbf{Programming for Artificial Intelligence and Data Science}$$"
   ]
  },
  {
   "cell_type": "markdown",
   "id": "dae7dea4-fa56-43b5-a423-4eb5037c87ab",
   "metadata": {},
   "source": [
    "$$\\Large\\textbf{Coursework 2: K-Means Clustering}$$"
   ]
  },
  {
   "cell_type": "markdown",
   "id": "73331a45-7a68-4ad4-a5ee-8f282ce9d876",
   "metadata": {},
   "source": [
    "$$\\Large\\textbf{Daniel Elston}$$"
   ]
  },
  {
   "cell_type": "markdown",
   "id": "10142971-f7b8-411a-b805-955eed43bf38",
   "metadata": {},
   "source": [
    "$$\\newline$$"
   ]
  },
  {
   "cell_type": "markdown",
   "id": "b40b42a9-a29e-4a89-9f75-cd2c27f05fc2",
   "metadata": {},
   "source": [
    "$\\Large\\textbf{Task 1: Preparation of Two Datasets}$"
   ]
  },
  {
   "cell_type": "markdown",
   "id": "cb755601-677d-4055-83f2-ebca29b240d4",
   "metadata": {},
   "source": [
    "The datasets below are suitable for k means clustering as they are not uniformly spread, random points. Instead, there are a greater concentration of points in certain regions. A k means algorithm would have difficulty assigning uniformly spread points to clusters."
   ]
  },
  {
   "cell_type": "markdown",
   "id": "eb34a820-3760-45b4-97b2-8509edc4aef6",
   "metadata": {},
   "source": [
    "Dataset 1 has a clear difference between clusters. This will allow easy cluster assignment when using pen and paper."
   ]
  },
  {
   "cell_type": "markdown",
   "id": "41bcd143-b824-402f-b08c-04d3f24eb376",
   "metadata": {},
   "source": [
    "**Dataset 1:** \n",
    "\n",
    "$$D_1 = [(1,1), (2,1), (2,2), (1,9), (1,10), (3,9), (10,10), (10,9), (8,8)]$$"
   ]
  },
  {
   "cell_type": "markdown",
   "id": "02cf9fcc-fb43-464e-b7a5-b681745bca04",
   "metadata": {},
   "source": [
    "Dataset 2 is the 'iris' dataset which consists of 3 iris species and measurements of their features. The source as well as some file description is noted below."
   ]
  },
  {
   "cell_type": "code",
   "execution_count": 1,
   "id": "63c258ed-db27-49b8-b1e6-cf17f3450394",
   "metadata": {
    "jupyter": {
     "source_hidden": true
    },
    "tags": []
   },
   "outputs": [
    {
     "name": "stdout",
     "output_type": "stream",
     "text": [
      ".. _iris_dataset:\n",
      "\n",
      "Iris plants dataset\n",
      "--------------------\n",
      "\n",
      "**Data Set Characteristics:**\n",
      "\n",
      "    :Number of Instances: 150 (50 in each of three classes)\n",
      "    :Number of Attributes: 4 numeric, predictive attributes and the class\n",
      "    :Attribute Information:\n",
      "        - sepal length in cm\n",
      "        - sepal width in cm\n",
      "        - petal length in cm\n",
      "        - petal width in cm\n",
      "        - class:\n",
      "                - Iris-Setosa\n",
      "                - Iris-Versicolour\n",
      "                - Iris-Virginica\n",
      "                \n",
      "    :Summary Statistics:\n",
      "\n",
      "    ============== ==== ==== ======= ===== ====================\n",
      "                    Min  Max   Mean    SD   Class Correlation\n",
      "    ============== ==== ==== ======= ===== ====================\n",
      "    sepal length:   4.3  7.9   5.84   0.83    0.7826\n",
      "    sepal width:    2.0  4.4   3.05   0.43   -0.4194\n",
      "    petal length:   1.0  6.9   3.76   1.76    0.9490  (high!)\n",
      "    petal width:    0.1  2.5   1.20   0.76    0.9565  (high!)\n",
      "    ============== ==== ==== ======= ===== ====================\n",
      "\n",
      "    :Missing Attribute Values: None\n",
      "    :Class Distribution: 33.3% for each of 3 classes.\n",
      "    :Creator: R.A. Fisher\n",
      "    :Donor: Michael Marshall (MARSHALL%PLU@io.arc.nasa.gov)\n",
      "    :Date: July, 1988\n",
      "\n",
      "The famous Iris database, first used by Sir R.A. Fisher. The dataset is taken\n",
      "from Fisher's paper. Note that it's the same as in R, but not as in the UCI\n",
      "Machine Learning Repository, which has two wrong data points.\n",
      "\n",
      "This is perhaps the best known database to be found in the\n",
      "pattern recognition literature.  Fisher's paper is a classic in the field and\n",
      "is referenced frequently to this day.  (See Duda & Hart, for example.)  The\n",
      "data set contains 3 classes of 50 instances each, where each class refers to a\n",
      "type of iris plant.  One class is linearly separable from the other 2; the\n",
      "latter are NOT linearly separable from each other.\n",
      "\n",
      ".. topic:: References\n",
      "\n",
      "   - Fisher, R.A. \"The use of multiple measurements in taxonomic problems\"\n",
      "     Annual Eugenics, 7, Part II, 179-188 (1936); also in \"Contributions to\n",
      "     Mathematical Statistics\" (John Wiley, NY, 1950).\n",
      "   - Duda, R.O., & Hart, P.E. (1973) Pattern Classification and Scene Analysis.\n",
      "     (Q327.D83) John Wiley & Sons.  ISBN 0-471-22361-1.  See page 218.\n",
      "   - Dasarathy, B.V. (1980) \"Nosing Around the Neighborhood: A New System\n",
      "     Structure and Classification Rule for Recognition in Partially Exposed\n",
      "     Environments\".  IEEE Transactions on Pattern Analysis and Machine\n",
      "     Intelligence, Vol. PAMI-2, No. 1, 67-71.\n",
      "   - Gates, G.W. (1972) \"The Reduced Nearest Neighbor Rule\".  IEEE Transactions\n",
      "     on Information Theory, May 1972, 431-433.\n",
      "   - See also: 1988 MLC Proceedings, 54-64.  Cheeseman et al\"s AUTOCLASS II\n",
      "     conceptual clustering system finds 3 classes in the data.\n",
      "   - Many, many more ...\n"
     ]
    }
   ],
   "source": [
    "# not necessary on EECS Jupyterlab systems\n",
    "import sys\n",
    "import pandas as pd\n",
    "sys.path.append('/usr/local/lib/python3.8/site-packages')\n",
    "\n",
    "from sklearn.datasets import load_iris\n",
    "iris = load_iris()\n",
    "print(iris.DESCR)\n",
    "\n",
    "iris\n",
    "\n",
    "import csv\n",
    "with open('iris.csv', 'w', newline='') as csvfile:\n",
    "    writer = csv.writer(csvfile, quoting=csv.QUOTE_NONNUMERIC)\n",
    "    writer.writerow(iris.feature_names)\n",
    "    writer.writerows(iris.data.tolist())"
   ]
  },
  {
   "cell_type": "markdown",
   "id": "d7f4d311-3785-473c-a628-b88da627cf83",
   "metadata": {},
   "source": [
    "$$\\newline$$"
   ]
  },
  {
   "cell_type": "markdown",
   "id": "93d66f97-3851-41bc-98fe-1ea3fb5ae614",
   "metadata": {},
   "source": [
    "$\\Large\\textbf{Task 2: Application of K-Means Clustering on Paper}$"
   ]
  },
  {
   "cell_type": "markdown",
   "id": "5e426593-1580-4f24-a425-3d49590e0120",
   "metadata": {},
   "source": [
    "Algorithm Step by Step:\n",
    "\n",
    "1)    Decide on the number of clusters, k, by eye, randomly or apply to elbow method detailed later.\n",
    "\n",
    "2)    Calculate the euclidean distance between each point and each centroid\n",
    "\n",
    "3)    Assign each data point to the nearest centroid\n",
    "\n",
    "4)    Calculate the mean distance between each point and its assigned centroid\n",
    "\n",
    "5)    Update your centroid position to the newly calculated mean distance\n",
    "\n",
    "6)    Repeat steps 3-5 until convergence."
   ]
  },
  {
   "cell_type": "markdown",
   "id": "3597b300-8259-4463-869e-300615bf5ca9",
   "metadata": {},
   "source": [
    "To start, there are obviously 3 clusters of points, so we will use 3 centroids. The centroids are placed at random initial starting points, shown below."
   ]
  },
  {
   "cell_type": "markdown",
   "id": "6c1c3166-7f01-497f-907e-9da9f63cda36",
   "metadata": {},
   "source": [
    "$$C_1 = (3,8)$$"
   ]
  },
  {
   "cell_type": "markdown",
   "id": "1d0f3042-acdb-410d-9916-0249f9d34e70",
   "metadata": {},
   "source": [
    "$$C_2 = (2,3)$$"
   ]
  },
  {
   "cell_type": "markdown",
   "id": "fe045b18-ae3b-416f-9f94-86c93a10dd45",
   "metadata": {},
   "source": [
    "$$C_3 = (7,7)$$"
   ]
  },
  {
   "cell_type": "markdown",
   "id": "fe5889ae-bc25-4cc5-9eac-0dc35ca403da",
   "metadata": {},
   "source": [
    "The euclidean distance is now calculated from each point to each centroid. The euclidean distance is found using,"
   ]
  },
  {
   "cell_type": "markdown",
   "id": "d91ee50d-fd82-4d3d-82dc-0bbc7d81db8d",
   "metadata": {},
   "source": [
    "$$S_{Euclidean} = \\sqrt{(C_{nx} - p_{nx})^2 - (C_{ny} - p_{ny})^2} $$"
   ]
  },
  {
   "cell_type": "markdown",
   "id": "ad32c328-29da-4cb0-9b06-f3ca28246d8d",
   "metadata": {},
   "source": [
    "where $p$ is a coordinate from the dataset. The euclidean distance between each point and each centroid is shown below."
   ]
  },
  {
   "cell_type": "markdown",
   "id": "ecd1d8f7-d848-4dce-8235-d22b6ab94525",
   "metadata": {},
   "source": [
    "| p | S_C1 | S_C2 | S_C3  |\n",
    "|-----|-----|-----|-----|\n",
    "| 1  | 7.3 | 2.2 | 8.5 |\n",
    "| 2  | 7.1 | 1.4 | 7.8 |\n",
    "| 3  | 6.1 | 1.0 | 7.1  |\n",
    "| 4  | 2.2 | 6.1 | 6.3  |\n",
    "| 5  | 2.8 | 7.1 | 6.7 |\n",
    "| 6  | 1.0 | 6.1 | 4.5  |\n",
    "| 7  | 7.3 | 10.6 | 4.2  |\n",
    "| 8  | 7.1 | 10.0 | 3.6  |\n",
    "| 9  | 5.0 | 7.8 | 1.4 |"
   ]
  },
  {
   "cell_type": "markdown",
   "id": "dcb3ea1e-deb1-4f1f-829a-8ccee8ef3a67",
   "metadata": {},
   "source": [
    "We can now assign each point to its nearest centroid. Points 4, 5 and 6 are assigned to centroid 1. Points 1, 2 and 3 are assigned to centroid 2. Points 7, 8 and 9 are assigned to centroid 3. The mean is now calculated for each point per centroid. The mean is found using,"
   ]
  },
  {
   "cell_type": "markdown",
   "id": "e30ba20f-f918-475f-b718-9dc49855fe5e",
   "metadata": {},
   "source": [
    "$$ \\overline{S}= \\frac{1}{n} \\sum_{i = 1}^n S_i $$"
   ]
  },
  {
   "cell_type": "markdown",
   "id": "24ec2604-0cf8-4285-bea3-05394b19def1",
   "metadata": {},
   "source": [
    "where n is the number of points per centroid. Starting with centroid 1, the points assigned are as follows,"
   ]
  },
  {
   "cell_type": "markdown",
   "id": "ddf06c30-c389-49e6-9a12-d354eec2172b",
   "metadata": {},
   "source": [
    "$$C_{1}(p) = (1,9), (1,10), (3,9)$$"
   ]
  },
  {
   "cell_type": "markdown",
   "id": "510ebd25-ddad-48af-ba46-f54ae1f79bbc",
   "metadata": {},
   "source": [
    "The means are as follows,"
   ]
  },
  {
   "cell_type": "markdown",
   "id": "174a6980-7b85-411c-b0e3-20b8efe60067",
   "metadata": {},
   "source": [
    "$$ \\overline{S_x} = \\frac{1}{3} \\sum_{i = 1}^n (1 + 1 + 3) = 1.7 ,$$"
   ]
  },
  {
   "cell_type": "markdown",
   "id": "1415bb13-8716-424e-8ea2-865e57807166",
   "metadata": {},
   "source": [
    "$$ \\overline{S_y} = \\frac{1}{3} \\sum_{i = 1}^n (9 + 10 + 9) = 9.3 ,$$"
   ]
  },
  {
   "cell_type": "markdown",
   "id": "c34c390d-4b47-4346-a39e-edabb5375e99",
   "metadata": {},
   "source": [
    "giving the updated centroid 1 coordinates (1.7, 9.3). The means are calculated in the same way for each centroid, giving each centroids updated coordinates. The above steps are repeated until the updated centroid coordinates do not change."
   ]
  },
  {
   "cell_type": "markdown",
   "id": "fd32b0b0-6545-4763-b68e-5fb748cb5a5b",
   "metadata": {},
   "source": [
    "The final coordinates give the centroids best fitted to k clusters of points. The results can be easily sanity checked by taking the mean of the assigned points. It is expected that the final updated centroids will be very close to these coordiantes. Generally, as you increase the number of iterations, the algorithms accuracy will increase. Regardless of the dataset, an acceptably accurate result should be achieved within 10 iterations. However, for very large datasets, iterations should increase with size of dataset."
   ]
  },
  {
   "cell_type": "markdown",
   "id": "fce54b5d-0c6d-41b3-9061-dd69460b0619",
   "metadata": {},
   "source": [
    "$$\\newline$$"
   ]
  },
  {
   "cell_type": "markdown",
   "id": "72b468f0-f511-47a0-9fc9-2983831772a2",
   "metadata": {},
   "source": [
    "$\\Large\\textbf{Task 3: Test Harness}$"
   ]
  },
  {
   "cell_type": "markdown",
   "id": "3e9813d9-6ef6-480f-9f9e-5028e217b863",
   "metadata": {},
   "source": [
    "The test harness below gives a k means cluster result from the use of a verified program. Sklearn has a k means module that returns highly accurate results. This should provide sufficient coverage of the algorithm provides in section 4. Using Sklearns k means module as a model solution, a comparison between the result of my algorithm and Sklearns algorithm are compared.\n",
    "\n",
    "A simple unit test is shown below tasked with ensuring simple functions such as finding the mean are working correctly."
   ]
  },
  {
   "cell_type": "code",
   "execution_count": 2,
   "id": "db5427a1-abdc-482f-a48a-2b89d6301849",
   "metadata": {},
   "outputs": [],
   "source": [
    "import numpy as np\n",
    "import pandas as pd\n",
    "from matplotlib import pyplot as plt\n",
    "import seaborn as sns\n",
    "\n",
    "from sklearn.datasets import make_blobs\n",
    "from sklearn.cluster import KMeans\n",
    "from sklearn.datasets import load_iris\n",
    "\n",
    "import unittest\n",
    "import time"
   ]
  },
  {
   "cell_type": "code",
   "execution_count": 74,
   "id": "be4ce195-4226-4e40-9afc-75e0174b5c2c",
   "metadata": {},
   "outputs": [
    {
     "data": {
      "text/plain": [
       "3.0"
      ]
     },
     "execution_count": 74,
     "metadata": {},
     "output_type": "execute_result"
    }
   ],
   "source": [
    "test_array = [1,2,3,4,5]\n",
    "\n",
    "def run_unit_test(A):\n",
    "    \n",
    "    n = len(A)\n",
    "    sum_of = sum(A)\n",
    "    mean = sum_of / n\n",
    "    \n",
    "    return mean\n",
    "\n",
    "run_unit_test(test_array)"
   ]
  },
  {
   "cell_type": "code",
   "execution_count": 3,
   "id": "8a95af74-a559-4d44-8f53-5a4e3f94b635",
   "metadata": {},
   "outputs": [],
   "source": [
    "sns.set(style=\"ticks\")\n",
    "sns.set_style(\"darkgrid\")"
   ]
  },
  {
   "cell_type": "code",
   "execution_count": 4,
   "id": "5e438e3b-f566-4174-82a7-518bb0e19256",
   "metadata": {},
   "outputs": [],
   "source": [
    "iris = load_iris()"
   ]
  },
  {
   "cell_type": "code",
   "execution_count": 5,
   "id": "5020ebd0-80c9-4db0-a243-0008538fdb42",
   "metadata": {},
   "outputs": [
    {
     "data": {
      "text/html": [
       "<div>\n",
       "<style scoped>\n",
       "    .dataframe tbody tr th:only-of-type {\n",
       "        vertical-align: middle;\n",
       "    }\n",
       "\n",
       "    .dataframe tbody tr th {\n",
       "        vertical-align: top;\n",
       "    }\n",
       "\n",
       "    .dataframe thead th {\n",
       "        text-align: right;\n",
       "    }\n",
       "</style>\n",
       "<table border=\"1\" class=\"dataframe\">\n",
       "  <thead>\n",
       "    <tr style=\"text-align: right;\">\n",
       "      <th></th>\n",
       "      <th>sepal length (cm)</th>\n",
       "      <th>sepal width (cm)</th>\n",
       "      <th>petal length (cm)</th>\n",
       "      <th>petal width (cm)</th>\n",
       "    </tr>\n",
       "  </thead>\n",
       "  <tbody>\n",
       "    <tr>\n",
       "      <th>0</th>\n",
       "      <td>5.1</td>\n",
       "      <td>3.5</td>\n",
       "      <td>1.4</td>\n",
       "      <td>0.2</td>\n",
       "    </tr>\n",
       "    <tr>\n",
       "      <th>1</th>\n",
       "      <td>4.9</td>\n",
       "      <td>3.0</td>\n",
       "      <td>1.4</td>\n",
       "      <td>0.2</td>\n",
       "    </tr>\n",
       "    <tr>\n",
       "      <th>2</th>\n",
       "      <td>4.7</td>\n",
       "      <td>3.2</td>\n",
       "      <td>1.3</td>\n",
       "      <td>0.2</td>\n",
       "    </tr>\n",
       "    <tr>\n",
       "      <th>3</th>\n",
       "      <td>4.6</td>\n",
       "      <td>3.1</td>\n",
       "      <td>1.5</td>\n",
       "      <td>0.2</td>\n",
       "    </tr>\n",
       "    <tr>\n",
       "      <th>4</th>\n",
       "      <td>5.0</td>\n",
       "      <td>3.6</td>\n",
       "      <td>1.4</td>\n",
       "      <td>0.2</td>\n",
       "    </tr>\n",
       "    <tr>\n",
       "      <th>...</th>\n",
       "      <td>...</td>\n",
       "      <td>...</td>\n",
       "      <td>...</td>\n",
       "      <td>...</td>\n",
       "    </tr>\n",
       "    <tr>\n",
       "      <th>145</th>\n",
       "      <td>6.7</td>\n",
       "      <td>3.0</td>\n",
       "      <td>5.2</td>\n",
       "      <td>2.3</td>\n",
       "    </tr>\n",
       "    <tr>\n",
       "      <th>146</th>\n",
       "      <td>6.3</td>\n",
       "      <td>2.5</td>\n",
       "      <td>5.0</td>\n",
       "      <td>1.9</td>\n",
       "    </tr>\n",
       "    <tr>\n",
       "      <th>147</th>\n",
       "      <td>6.5</td>\n",
       "      <td>3.0</td>\n",
       "      <td>5.2</td>\n",
       "      <td>2.0</td>\n",
       "    </tr>\n",
       "    <tr>\n",
       "      <th>148</th>\n",
       "      <td>6.2</td>\n",
       "      <td>3.4</td>\n",
       "      <td>5.4</td>\n",
       "      <td>2.3</td>\n",
       "    </tr>\n",
       "    <tr>\n",
       "      <th>149</th>\n",
       "      <td>5.9</td>\n",
       "      <td>3.0</td>\n",
       "      <td>5.1</td>\n",
       "      <td>1.8</td>\n",
       "    </tr>\n",
       "  </tbody>\n",
       "</table>\n",
       "<p>150 rows × 4 columns</p>\n",
       "</div>"
      ],
      "text/plain": [
       "     sepal length (cm)  sepal width (cm)  petal length (cm)  petal width (cm)\n",
       "0                  5.1               3.5                1.4               0.2\n",
       "1                  4.9               3.0                1.4               0.2\n",
       "2                  4.7               3.2                1.3               0.2\n",
       "3                  4.6               3.1                1.5               0.2\n",
       "4                  5.0               3.6                1.4               0.2\n",
       "..                 ...               ...                ...               ...\n",
       "145                6.7               3.0                5.2               2.3\n",
       "146                6.3               2.5                5.0               1.9\n",
       "147                6.5               3.0                5.2               2.0\n",
       "148                6.2               3.4                5.4               2.3\n",
       "149                5.9               3.0                5.1               1.8\n",
       "\n",
       "[150 rows x 4 columns]"
      ]
     },
     "execution_count": 5,
     "metadata": {},
     "output_type": "execute_result"
    }
   ],
   "source": [
    "df_iris = pd.DataFrame(iris.data, columns = iris.feature_names)\n",
    "df_iris"
   ]
  },
  {
   "cell_type": "code",
   "execution_count": 6,
   "id": "ed8d2c75-4bed-4856-b3da-95c81a78a7e6",
   "metadata": {},
   "outputs": [
    {
     "data": {
      "text/html": [
       "<div>\n",
       "<style scoped>\n",
       "    .dataframe tbody tr th:only-of-type {\n",
       "        vertical-align: middle;\n",
       "    }\n",
       "\n",
       "    .dataframe tbody tr th {\n",
       "        vertical-align: top;\n",
       "    }\n",
       "\n",
       "    .dataframe thead th {\n",
       "        text-align: right;\n",
       "    }\n",
       "</style>\n",
       "<table border=\"1\" class=\"dataframe\">\n",
       "  <thead>\n",
       "    <tr style=\"text-align: right;\">\n",
       "      <th></th>\n",
       "      <th>petal length (cm)</th>\n",
       "      <th>petal width (cm)</th>\n",
       "    </tr>\n",
       "  </thead>\n",
       "  <tbody>\n",
       "    <tr>\n",
       "      <th>0</th>\n",
       "      <td>1.4</td>\n",
       "      <td>0.2</td>\n",
       "    </tr>\n",
       "    <tr>\n",
       "      <th>1</th>\n",
       "      <td>1.4</td>\n",
       "      <td>0.2</td>\n",
       "    </tr>\n",
       "    <tr>\n",
       "      <th>2</th>\n",
       "      <td>1.3</td>\n",
       "      <td>0.2</td>\n",
       "    </tr>\n",
       "    <tr>\n",
       "      <th>3</th>\n",
       "      <td>1.5</td>\n",
       "      <td>0.2</td>\n",
       "    </tr>\n",
       "    <tr>\n",
       "      <th>4</th>\n",
       "      <td>1.4</td>\n",
       "      <td>0.2</td>\n",
       "    </tr>\n",
       "    <tr>\n",
       "      <th>...</th>\n",
       "      <td>...</td>\n",
       "      <td>...</td>\n",
       "    </tr>\n",
       "    <tr>\n",
       "      <th>145</th>\n",
       "      <td>5.2</td>\n",
       "      <td>2.3</td>\n",
       "    </tr>\n",
       "    <tr>\n",
       "      <th>146</th>\n",
       "      <td>5.0</td>\n",
       "      <td>1.9</td>\n",
       "    </tr>\n",
       "    <tr>\n",
       "      <th>147</th>\n",
       "      <td>5.2</td>\n",
       "      <td>2.0</td>\n",
       "    </tr>\n",
       "    <tr>\n",
       "      <th>148</th>\n",
       "      <td>5.4</td>\n",
       "      <td>2.3</td>\n",
       "    </tr>\n",
       "    <tr>\n",
       "      <th>149</th>\n",
       "      <td>5.1</td>\n",
       "      <td>1.8</td>\n",
       "    </tr>\n",
       "  </tbody>\n",
       "</table>\n",
       "<p>150 rows × 2 columns</p>\n",
       "</div>"
      ],
      "text/plain": [
       "     petal length (cm)  petal width (cm)\n",
       "0                  1.4               0.2\n",
       "1                  1.4               0.2\n",
       "2                  1.3               0.2\n",
       "3                  1.5               0.2\n",
       "4                  1.4               0.2\n",
       "..                 ...               ...\n",
       "145                5.2               2.3\n",
       "146                5.0               1.9\n",
       "147                5.2               2.0\n",
       "148                5.4               2.3\n",
       "149                5.1               1.8\n",
       "\n",
       "[150 rows x 2 columns]"
      ]
     },
     "execution_count": 6,
     "metadata": {},
     "output_type": "execute_result"
    }
   ],
   "source": [
    "df_iris_lvw = df_iris[['petal length (cm)', 'petal width (cm)']]\n",
    "df_iris_lvw"
   ]
  },
  {
   "cell_type": "code",
   "execution_count": 7,
   "id": "487e6e60-d700-453e-90b2-3928bf44b621",
   "metadata": {},
   "outputs": [],
   "source": [
    "X = df_iris_lvw.to_numpy()"
   ]
  },
  {
   "cell_type": "code",
   "execution_count": 8,
   "id": "041ee4e3-8325-4ffd-b425-afcb02ed0512",
   "metadata": {},
   "outputs": [],
   "source": [
    "distortion=[]\n",
    "\n",
    "for i in range(1,10):\n",
    "    \n",
    "    kmeans=KMeans(n_clusters = i, init = 'k-means++', n_init = 10, max_iter = 100).fit(X)\n",
    "    \n",
    "    distortion.append(kmeans.inertia_)"
   ]
  },
  {
   "cell_type": "code",
   "execution_count": 9,
   "id": "e6616970-d4b5-47ba-9e9a-4c7a24a6979b",
   "metadata": {},
   "outputs": [
    {
     "data": {
      "image/png": "[encoded data removed]",
      "text/plain": [
       "<Figure size 864x360 with 1 Axes>"
      ]
     },
     "metadata": {},
     "output_type": "display_data"
    }
   ],
   "source": [
    "fig, ax1= plt.subplots(1, 1, figsize=(12,5))\n",
    "    \n",
    "ax1.plot(distortion, color='blue', marker='x')\n",
    "ax1.set_title('Observation of the Elbow')\n",
    "ax1.set_xlabel('Number of Clusters, k')\n",
    "ax1.set_ylabel('CSS') \n",
    "plt.show()"
   ]
  },
  {
   "cell_type": "code",
   "execution_count": 10,
   "id": "8d9428f1-fc59-4a72-afe3-a4afbc36f460",
   "metadata": {},
   "outputs": [],
   "source": [
    "kmeans=KMeans(n_clusters = 3, init = 'k-means++', n_init = 10, max_iter = 100)\n",
    "y_kmeans = kmeans.fit_predict(X)"
   ]
  },
  {
   "cell_type": "code",
   "execution_count": 11,
   "id": "e3135691-dc54-4b36-b634-0cfd3666b1b6",
   "metadata": {},
   "outputs": [
    {
     "data": {
      "image/png": "[encoded data removed]",
      "text/plain": [
       "<Figure size 1800x720 with 2 Axes>"
      ]
     },
     "metadata": {},
     "output_type": "display_data"
    }
   ],
   "source": [
    "fig, ax2= plt.subplots(1, 2, sharex=False, figsize=(25,10))\n",
    "\n",
    "ax2[0].scatter(X[y_kmeans == 0, 0], X[y_kmeans == 0, 1], s = 75, c = 'yellow', label = 'Iris-Setosa')\n",
    "ax2[0].scatter(X[y_kmeans == 1, 0], X[y_kmeans == 1, 1], s = 75, c = 'blue', label = 'Iris-Versicolour')\n",
    "ax2[0].scatter(X[y_kmeans == 2, 0], X[y_kmeans == 2, 1], s = 75, c = 'green', label = 'Iris-Virginica')\n",
    "\n",
    "ax2[0].scatter(kmeans.cluster_centers_[:, 0], kmeans.cluster_centers_[:,1], s = 100, c = 'red', marker='x', label = 'Centroids', linewidths=3)\n",
    "\n",
    "ax2[0].set_title('Iris Species K-Means Clustering (Sklearn)')\n",
    "ax2[0].set_xlabel('Petal Length (cm)')\n",
    "ax2[0].set_ylabel('Petal Width (cm)') \n",
    "\n",
    "\n",
    "ax2[1].scatter(X[:,0], X[:,1], c=iris['target'], edgecolors='black', s = 75)\n",
    "\n",
    "ax2[1].set_title('Actual Iris Species')\n",
    "ax2[1].set_xlabel('Petal Length (cm)')\n",
    "ax2[1].set_ylabel('Petal Width (cm)') \n",
    "\n",
    "\n",
    "plt.show()"
   ]
  },
  {
   "cell_type": "markdown",
   "id": "af8d310b-db31-4c72-8ce0-2c8421b9f67e",
   "metadata": {},
   "source": [
    "$$\\newline$$"
   ]
  },
  {
   "cell_type": "markdown",
   "id": "bf3aeb13-35cd-43fb-a33d-ec223106f16a",
   "metadata": {},
   "source": [
    "$\\Large\\textbf{Task 4: Implementing K-Means Clustering in Python}$"
   ]
  },
  {
   "cell_type": "code",
   "execution_count": 53,
   "id": "e7e35fff-c8a4-4293-a69e-69e8de1fae7e",
   "metadata": {},
   "outputs": [],
   "source": [
    "X = df_iris_lvw.to_numpy()"
   ]
  },
  {
   "cell_type": "code",
   "execution_count": 54,
   "id": "240ec157-6efe-4c72-ae37-11c710232589",
   "metadata": {},
   "outputs": [],
   "source": [
    "points = X\n",
    "k = 3\n",
    "iterations = 100"
   ]
  },
  {
   "cell_type": "code",
   "execution_count": 55,
   "id": "b8786f0d-4f95-4740-a360-e206eebc894e",
   "metadata": {},
   "outputs": [
    {
     "data": {
      "image/png": "[encoded data removed]",
      "text/plain": [
       "<Figure size 864x360 with 1 Axes>"
      ]
     },
     "metadata": {},
     "output_type": "display_data"
    }
   ],
   "source": [
    "fig, ax3 = plt.subplots(1, 1, sharex=False, figsize=(12,5))\n",
    "\n",
    "ax3.scatter(points[:,0], points[:,1], s=30)\n",
    "ax3.set_title(\"Iris Dataset Plotted\")\n",
    "ax3.set_xlabel('petal length (cm)')\n",
    "ax3.set_ylabel('petal width (cm)')\n",
    "plt.show()"
   ]
  },
  {
   "cell_type": "code",
   "execution_count": 56,
   "id": "4b6aa10d-73a1-4083-ab38-41781cacd39b",
   "metadata": {},
   "outputs": [],
   "source": [
    "def random_centroids(points):\n",
    "    \n",
    "    length = len(points)\n",
    "    index = np.random.permutation(length)\n",
    "    origional_centroids = points[index[:k]]\n",
    "    \n",
    "    return origional_centroids"
   ]
  },
  {
   "cell_type": "code",
   "execution_count": 57,
   "id": "b6dc711f-75f2-4c50-bfbb-bed98727cb84",
   "metadata": {},
   "outputs": [],
   "source": [
    "random_centroid_results = random_centroids(points)"
   ]
  },
  {
   "cell_type": "code",
   "execution_count": 58,
   "id": "0e582cd9-9c09-421b-a4f3-ebdd552c221d",
   "metadata": {},
   "outputs": [],
   "source": [
    "def assign_points(points, centroids):\n",
    "    \n",
    "    length = len(points)\n",
    "    distance = np.empty((length, k))\n",
    "    \n",
    "    for i in range(k):\n",
    "        difference = (points - centroids[i,:])\n",
    "        euclidean_distance = np.linalg.norm(difference, axis=1)\n",
    "        distance[:, i] = euclidean_distance\n",
    "        \n",
    "    assign = np.argmin(distance, axis=1)\n",
    "    \n",
    "    return assign"
   ]
  },
  {
   "cell_type": "code",
   "execution_count": 59,
   "id": "d97b9832-6367-412d-9f2c-16e9bf2724ca",
   "metadata": {},
   "outputs": [],
   "source": [
    "labels = assign_points(points, random_centroid_results)"
   ]
  },
  {
   "cell_type": "code",
   "execution_count": 60,
   "id": "be676b67-09fc-4c67-9d5f-e1bd2cdf8338",
   "metadata": {},
   "outputs": [],
   "source": [
    "def compute_mean(points, labels):\n",
    "    \n",
    "    width = points.shape[1]\n",
    "    means = np.zeros((k, width))\n",
    "    \n",
    "    for i in range(k):\n",
    "        assigned = points[labels == i, :]\n",
    "        means[i, :] = np.mean(assigned, axis=0)\n",
    "    return means"
   ]
  },
  {
   "cell_type": "code",
   "execution_count": 61,
   "id": "e44394de-ea23-47ab-806e-cc0d68d66d26",
   "metadata": {},
   "outputs": [],
   "source": [
    "cent = compute_mean(points, labels)"
   ]
  },
  {
   "cell_type": "code",
   "execution_count": 62,
   "id": "5a1ae2e3-a0b1-4e16-88fd-765485f52e4d",
   "metadata": {},
   "outputs": [],
   "source": [
    "def RSSE(points, labels, centroids):\n",
    "    \n",
    "    length = len(points)\n",
    "    distance = np.zeros(length)\n",
    "    \n",
    "    for i in range(k):\n",
    "        assigned = points[labels == i]\n",
    "        difference = assigned - centroids[i]\n",
    "        distance[labels == i] = np.linalg.norm(difference, axis=1)\n",
    "        dist_sq = np.square(distance)\n",
    "        dist_sum = np.sum(dist_sq)\n",
    "        \n",
    "    return dist_sum"
   ]
  },
  {
   "cell_type": "code",
   "execution_count": 63,
   "id": "f9dad369-7aa1-49a2-9986-c794bbc3f00e",
   "metadata": {},
   "outputs": [],
   "source": [
    "RS = RSSE(points, labels, cent)"
   ]
  },
  {
   "cell_type": "code",
   "execution_count": 64,
   "id": "fa79fdfc-de5e-488b-b553-a475d0ea8113",
   "metadata": {},
   "outputs": [],
   "source": [
    "rsse_store = []\n",
    "centroid_store = []\n",
    "\n",
    "for i in range(1):\n",
    "    \n",
    "    updated_centroids = random_centroids(points)\n",
    "    \n",
    "    for j in range(iterations):\n",
    "        \n",
    "        prev_centroids = updated_centroids\n",
    "        labels = assign_points(points, prev_centroids)\n",
    "        updated_centroids = compute_mean(points, labels)\n",
    "        \n",
    "        if np.all(prev_centroids == updated_centroids):\n",
    "            break\n",
    "            \n",
    "    rsse_store.append(RSSE(points, labels, updated_centroids))\n",
    "    centroid_store.append(updated_centroids)"
   ]
  },
  {
   "cell_type": "code",
   "execution_count": 65,
   "id": "e512a4c2-cc60-4309-8f5c-8befb6cf73de",
   "metadata": {},
   "outputs": [
    {
     "name": "stdout",
     "output_type": "stream",
     "text": [
      "Point Assigned Labels: \n",
      " [1 1 1 1 1 1 1 1 1 1 1 1 1 1 1 1 1 1 1 1 1 1 1 1 1 1 1 1 1 1 1 1 1 1 1 1 1\n",
      " 1 1 1 1 1 1 1 1 1 1 1 1 1 0 0 0 0 0 0 0 0 0 0 0 0 0 0 0 0 0 0 0 0 0 0 0 0\n",
      " 0 0 0 2 0 0 0 0 0 2 0 0 0 0 0 0 0 0 0 0 0 0 0 0 0 0 2 2 2 2 2 2 0 2 2 2 2\n",
      " 2 2 2 2 2 2 2 2 0 2 2 2 0 2 2 0 0 2 2 2 2 2 2 2 2 2 2 0 2 2 2 2 2 2 2 2 2\n",
      " 2 2]\n",
      "\n",
      "\n",
      "Final Centroid Centers: \n",
      " [[4.3 1.4]\n",
      " [1.5 0.2]\n",
      " [5.6 2. ]]\n",
      "\n",
      "\n"
     ]
    }
   ],
   "source": [
    "print('Point Assigned Labels: \\n', labels)\n",
    "print('\\n')\n",
    "print('Final Centroid Centers: \\n', updated_centroids.round(1))\n",
    "print('\\n')"
   ]
  },
  {
   "cell_type": "code",
   "execution_count": 66,
   "id": "fce09d8d-ec42-40a3-877f-be729251c804",
   "metadata": {},
   "outputs": [
    {
     "name": "stdout",
     "output_type": "stream",
     "text": [
      "0.00021600723266601562\n",
      "0.0003304481506347656\n",
      "0.0007081031799316406\n",
      "0.00031447410583496094\n",
      "Execution time of algorithm for 100 iterations is approximately: 1.20ms\n",
      "Execution time of algorithm for 1000 iterations is approximately: 1.93ms\n"
     ]
    }
   ],
   "source": [
    "# Measure time\n",
    "def measure_time(func):\n",
    "    start = time.time()\n",
    "    func()\n",
    "    end = time.time()\n",
    "    print(end - start)  \n",
    "    \n",
    "measure_time(lambda: random_centroids(points))\n",
    "measure_time(lambda: assign_points(points, random_centroid_results))\n",
    "measure_time(lambda: compute_mean(points, labels))\n",
    "measure_time(lambda: RSSE(points, labels, cent))\n",
    "\n",
    "print('Execution time of algorithm for 100 iterations is approximately: 1.20ms')\n",
    "print('Execution time of algorithm for 1000 iterations is approximately: 1.93ms')"
   ]
  },
  {
   "cell_type": "markdown",
   "id": "43f09653-3649-43d4-b4a7-6cf176e458d8",
   "metadata": {},
   "source": [
    "The limitations of this algorithm include the need for a manual input of k, when not automating with the elbow method. This particular algorithm only uses euclidean distance, if another method for finding distance had to be used, it would have to be manually updated. This algorithm further expects only 2 dimensions of data, however it could be modified for more. Also, there are no Principle Component Analysis (CPA) algorithms for dealing with greater dimensions. The k means method in general is limited to only working when there are partially defined clusters in the data. It would not work with a dataset where the points are uniformly distributed (such as gas particles in equilibrium)."
   ]
  },
  {
   "cell_type": "markdown",
   "id": "40406def-d888-4e2c-b866-db38480c6a85",
   "metadata": {},
   "source": [
    "This algorithm is not particularly complex. The algorithm simply initiates the steps listed in task 2. The functions have been kept small and concise. The for loop at the end of the algorithm simply initiates each function until equilibrium is reached. The algorithm does not take long to execute do to a small number of iterations and simple functions. An example of the small run time is shown above. An increased dataset and number of iterations or k may increase this time."
   ]
  },
  {
   "cell_type": "markdown",
   "id": "f9944512-b033-4a67-a1de-d2f5948ec5c8",
   "metadata": {},
   "source": [
    "$$\\newline$$"
   ]
  },
  {
   "cell_type": "markdown",
   "id": "7a692081-2c11-4333-9b5d-95502bcb3808",
   "metadata": {},
   "source": [
    "$\\Large\\textbf{Task 5: Algorithm Visualisation}$"
   ]
  },
  {
   "cell_type": "code",
   "execution_count": 67,
   "id": "86435f3c-8363-4ce5-b315-bb24ba2986cb",
   "metadata": {},
   "outputs": [
    {
     "data": {
      "image/png": "[encoded data removed]",
      "text/plain": [
       "<Figure size 1800x720 with 2 Axes>"
      ]
     },
     "metadata": {},
     "output_type": "display_data"
    }
   ],
   "source": [
    "fig, ax = plt.subplots(1, 2, figsize=(25, 10))\n",
    "\n",
    "\n",
    "ax[0].scatter(points[labels == 0, 0], points[labels == 0, 1], s = 75, c = 'yellow')\n",
    "ax[0].scatter(points[labels == 1, 0], points[labels == 1, 1], s = 75, c = 'blue')\n",
    "ax[0].scatter(points[labels == 2, 0], points[labels == 2, 1], s = 75, c = 'green')\n",
    "ax[0].scatter(centroid_store[np.argmin(rsse_store)][:, 0], centroid_store[np.argmin(rsse_store)][:, 1], s=200, c='red', marker='x', linewidths=3)\n",
    "\n",
    "ax[0].set_title('K-Means Implementation on Iris Dataset')\n",
    "ax[0].set_xlabel('Petal Length (cm)')\n",
    "ax[0].set_ylabel('Petal Width (cm)') \n",
    "\n",
    "\n",
    "ax[1].scatter(X[y_kmeans == 0, 0], X[y_kmeans == 0, 1], s = 75, c = 'yellow')\n",
    "ax[1].scatter(X[y_kmeans == 1, 0], X[y_kmeans == 1, 1], s = 75, c = 'blue')\n",
    "ax[1].scatter(X[y_kmeans == 2, 0], X[y_kmeans == 2, 1], s = 75, c = 'green')\n",
    "ax[1].scatter(kmeans.cluster_centers_[:, 0], kmeans.cluster_centers_[:,1], s = 200, c = 'red', marker='x', linewidths=3)\n",
    "\n",
    "ax[1].set_title('Iris Species K-Means Clustering Using Sklearn')\n",
    "ax[1].set_xlabel('Petal Length (cm)')\n",
    "ax[1].set_ylabel('Petal Width (cm)')\n",
    "\n",
    "\n",
    "plt.show()"
   ]
  },
  {
   "cell_type": "markdown",
   "id": "6dac4a88-6ad2-4609-9eae-eeaed0bb2826",
   "metadata": {},
   "source": [
    "$$\\newline$$"
   ]
  },
  {
   "cell_type": "markdown",
   "id": "f0879193-1285-4294-bb36-244dd0ffd674",
   "metadata": {},
   "source": [
    "Below the the algorithm applied to the test dataset from task 1."
   ]
  },
  {
   "cell_type": "code",
   "execution_count": 40,
   "id": "7e97e786-8167-41a7-baa3-f2cf5ec804ff",
   "metadata": {},
   "outputs": [],
   "source": [
    "D_1 = np.array([[1,1], [2,1], [2,2], [1,9], [1,10], [3,9], [10,10], [10,9], [8,8]])\n",
    "k = 3\n",
    "iterations = 100"
   ]
  },
  {
   "cell_type": "code",
   "execution_count": 41,
   "id": "c87fa058-d08e-469f-8c88-fc4eaea51523",
   "metadata": {},
   "outputs": [
    {
     "data": {
      "image/png": "[encoded data removed]",
      "text/plain": [
       "<Figure size 864x360 with 1 Axes>"
      ]
     },
     "metadata": {},
     "output_type": "display_data"
    }
   ],
   "source": [
    "fig, ax3 = plt.subplots(1, 1, sharex=False, figsize=(12,5))\n",
    "\n",
    "ax3.scatter(D_1[:,0], D_1[:,1], s=30)\n",
    "ax3.set_title(\"Test Dataset Plot\")\n",
    "ax3.set_xlabel('X Coordinates')\n",
    "ax3.set_ylabel('Y Coordinates')\n",
    "plt.show()"
   ]
  },
  {
   "cell_type": "code",
   "execution_count": 42,
   "id": "a776f380-4f88-4f2f-a265-2192137acad3",
   "metadata": {},
   "outputs": [],
   "source": [
    "def random_centroids(points):\n",
    "    \n",
    "    length = len(points)\n",
    "    index = np.random.permutation(length)\n",
    "    origional_centroids = points[index[:k]]\n",
    "    \n",
    "    return origional_centroids"
   ]
  },
  {
   "cell_type": "code",
   "execution_count": 43,
   "id": "419fae7f-aa5d-4df7-b111-e27240d35c64",
   "metadata": {},
   "outputs": [],
   "source": [
    "random_centroid_results = random_centroids(D_1)"
   ]
  },
  {
   "cell_type": "code",
   "execution_count": 44,
   "id": "8a0f6843-5d4a-458c-8d07-92208ef2a3a0",
   "metadata": {},
   "outputs": [],
   "source": [
    "def assign_points(points, centroids):\n",
    "    \n",
    "    length = len(points)\n",
    "    distance = np.empty((length, k))\n",
    "    \n",
    "    for i in range(k):\n",
    "        difference = (points - centroids[i,:])\n",
    "        euclidean_distance = np.linalg.norm(difference, axis=1)\n",
    "        distance[:, i] = euclidean_distance\n",
    "        \n",
    "    assign = np.argmin(distance, axis=1)\n",
    "    \n",
    "    return assign"
   ]
  },
  {
   "cell_type": "code",
   "execution_count": 45,
   "id": "5153cec6-9b00-4983-b321-a58b255e714d",
   "metadata": {},
   "outputs": [],
   "source": [
    "labels = assign_points(D_1, random_centroid_results)"
   ]
  },
  {
   "cell_type": "code",
   "execution_count": 46,
   "id": "143b7a49-1a46-4311-94f6-32e77fdd91ad",
   "metadata": {},
   "outputs": [],
   "source": [
    "def compute_mean(points, labels):\n",
    "    \n",
    "    width = points.shape[1]\n",
    "    means = np.zeros((k, width))\n",
    "    \n",
    "    for j in range(k):\n",
    "        assigned = points[labels == j, :]\n",
    "        means[j, :] = np.mean(assigned, axis=0)\n",
    "    return means"
   ]
  },
  {
   "cell_type": "code",
   "execution_count": 47,
   "id": "3dbe149a-0666-4ea1-846c-c06347cc4def",
   "metadata": {},
   "outputs": [],
   "source": [
    "cent = compute_mean(D_1, labels)"
   ]
  },
  {
   "cell_type": "code",
   "execution_count": 48,
   "id": "cdb1feac-ef96-450e-938f-8ba085be9f0f",
   "metadata": {},
   "outputs": [],
   "source": [
    "def RSSE(points, labels, centroids):\n",
    "    \n",
    "    length = len(points)\n",
    "    distance = np.zeros(length)\n",
    "    \n",
    "    for z in range(k):\n",
    "        assigned = points[labels == z]\n",
    "        difference = assigned - centroids[z]\n",
    "        distance[labels == z] = np.linalg.norm(difference, axis=1)\n",
    "        dist_sq = np.square(distance)\n",
    "        dist_sum = np.sum(dist_sq)\n",
    "        \n",
    "    return dist_sum"
   ]
  },
  {
   "cell_type": "code",
   "execution_count": 49,
   "id": "61c7a257-c60f-4fb6-976d-409578e8ae94",
   "metadata": {},
   "outputs": [],
   "source": [
    "RS = RSSE(D_1, labels, cent)"
   ]
  },
  {
   "cell_type": "code",
   "execution_count": 50,
   "id": "c01ee919-a07b-4e41-b15f-c9497e37e2b6",
   "metadata": {},
   "outputs": [],
   "source": [
    "rsse_store = []\n",
    "centroid_store = []\n",
    "\n",
    "for i in range(1):\n",
    "    \n",
    "    updated_centroids = random_centroids(D_1)\n",
    "    \n",
    "    for j in range(iterations):\n",
    "        \n",
    "        prev_centroids = updated_centroids\n",
    "        labels = assign_points(D_1, prev_centroids)\n",
    "        updated_centroids = compute_mean(D_1, labels)\n",
    "        \n",
    "        if np.all(prev_centroids == updated_centroids):\n",
    "            break\n",
    "            \n",
    "    rsse_store.append(RSSE(D_1, labels, updated_centroids))\n",
    "    centroid_store.append(updated_centroids)"
   ]
  },
  {
   "cell_type": "code",
   "execution_count": 51,
   "id": "6aabc7b4-6b0c-4491-897d-d2b75f487164",
   "metadata": {},
   "outputs": [
    {
     "name": "stdout",
     "output_type": "stream",
     "text": [
      "Point Assigned Labels: \n",
      " [1 1 1 2 2 2 0 0 0]\n",
      "\n",
      "\n",
      "Final Centroid Centers: \n",
      " [[9.3 9. ]\n",
      " [1.7 1.3]\n",
      " [1.7 9.3]]\n"
     ]
    }
   ],
   "source": [
    "print('Point Assigned Labels: \\n', labels)\n",
    "print('\\n')\n",
    "print('Final Centroid Centers: \\n', updated_centroids.round(1))"
   ]
  },
  {
   "cell_type": "markdown",
   "id": "37e873af-59db-4d3a-bb7a-a5b9f1dbdaf0",
   "metadata": {},
   "source": [
    "$$\\newline$$"
   ]
  },
  {
   "cell_type": "code",
   "execution_count": 52,
   "id": "03e6a8c0-0da1-4d13-a656-06221d0fd918",
   "metadata": {},
   "outputs": [
    {
     "data": {
      "image/png": "[encoded data removed]",
      "text/plain": [
       "<Figure size 864x360 with 1 Axes>"
      ]
     },
     "metadata": {},
     "output_type": "display_data"
    }
   ],
   "source": [
    "fig, ax5 = plt.subplots(1, 1, sharex=False, figsize=(12,5))\n",
    "\n",
    "ax5.scatter(D_1[labels == 0, 0], D_1[labels == 0, 1], s = 75, c = 'yellow')\n",
    "ax5.scatter(D_1[labels == 1, 0], D_1[labels == 1, 1], s = 75, c = 'blue')\n",
    "ax5.scatter(D_1[labels == 2, 0], D_1[labels == 2, 1], s = 75, c = 'green')\n",
    "ax5.scatter(centroid_store[np.argmin(rsse_store)][:, 0], centroid_store[np.argmin(rsse_store)][:, 1], s=200, c='red', marker='x', linewidths=3)\n",
    "\n",
    "ax5.set_title('K-Means Implementation on Test Dataset')\n",
    "ax5.set_xlabel('X Coordinates')\n",
    "ax5.set_ylabel('Y Coordinates') \n",
    "\n",
    "plt.show()"
   ]
  },
  {
   "cell_type": "markdown",
   "id": "44027d84-0dc1-4cae-8761-6faa17807ede",
   "metadata": {},
   "source": [
    "$$\\newline$$"
   ]
  }
 ],
 "metadata": {
  "kernelspec": {
   "display_name": "Python 3 (ipykernel)",
   "language": "python",
   "name": "python3"
  },
  "language_info": {
   "codemirror_mode": {
    "name": "ipython",
    "version": 3
   },
   "file_extension": ".py",
   "mimetype": "text/x-python",
   "name": "python",
   "nbconvert_exporter": "python",
   "pygments_lexer": "ipython3",
   "version": "3.9.7"
  }
 },
 "nbformat": 4,
 "nbformat_minor": 5
}
